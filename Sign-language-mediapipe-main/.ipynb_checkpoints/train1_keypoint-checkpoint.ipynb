{
 "nbformat": 4,
 "nbformat_minor": 0,
 "metadata": {
  "colab": {
   "provenance": []
  },
  "kernelspec": {
   "name": "python3",
   "display_name": "Python 3"
  },
  "language_info": {
   "name": "python"
  }
 },
 "cells": [
  {
   "cell_type": "code",
   "execution_count": 70,
   "metadata": {
    "id": "EdWWxbwxxYSB"
   },
   "outputs": [],
   "source": [
    "import csv\n",
    "import matplotlib.pyplot as plt\n",
    "import numpy as np\n",
    "import tensorflow as tf\n",
    "import seaborn as sns\n",
    "import matplotlib.pyplot as plt\n",
    "from sklearn.metrics import confusion_matrix, classification_report\n",
    "import pandas as pd\n",
    "\n",
    "\n",
    "from sklearn.model_selection import train_test_split"
   ]
  },
  {
   "cell_type": "code",
   "source": [
    "RANDOM_SEED = 42\n",
    "NUM_CLASSES = 36\n"
   ],
   "metadata": {
    "id": "pU6Qb_n_yGJR"
   },
   "execution_count": 71,
   "outputs": []
  },
  {
   "cell_type": "code",
   "source": [
    "dataset = 'keypoint.csv'\n",
    "model_save_path = 'keypoint_classifier.keras.h5'"
   ],
   "metadata": {
    "id": "iUpAXZQlyJBS"
   },
   "execution_count": 72,
   "outputs": []
  },
  {
   "cell_type": "code",
   "source": [
    "x_dataset = np.loadtxt(dataset, delimiter=',', dtype='float32', usecols=list(range(1, (21 * 2) + 1)))\n",
    "y_dataset = np.loadtxt(dataset, delimiter=',', dtype='int32', usecols=(0))\n",
    "\n",
    "x_train, x_test, y_train, y_test = train_test_split(x_dataset, y_dataset, train_size=0.75, random_state=RANDOM_SEED)"
   ],
   "metadata": {
    "id": "XpJhgzVFyTR0"
   },
   "execution_count": 73,
   "outputs": []
  },
  {
   "cell_type": "code",
   "source": [
    "model = tf.keras.models.Sequential([\n",
    "    tf.keras.layers.Input((21 * 2, )),\n",
    "    tf.keras.layers.Dropout(0.2),\n",
    "    tf.keras.layers.Dense(20, activation='relu'),\n",
    "    tf.keras.layers.Dropout(0.4),\n",
    "    tf.keras.layers.Dense(10, activation='relu'),\n",
    "    tf.keras.layers.Dense(NUM_CLASSES, activation='softmax')\n",
    "])\n"
   ],
   "metadata": {
    "id": "EHrJ0RYYyfLN"
   },
   "execution_count": 74,
   "outputs": []
  },
  {
   "cell_type": "code",
   "source": [
    "model.summary()"
   ],
   "metadata": {
    "id": "btmMgl0gylQd"
   },
   "execution_count": null,
   "outputs": []
  },
  {
   "cell_type": "code",
   "source": [
    "# Model checkpoint callback\n",
    "cp_callback = tf.keras.callbacks.ModelCheckpoint(model_save_path, verbose=1, save_weights_only=False)\n",
    "# Callback for early stopping\n",
    "es_callback = tf.keras.callbacks.EarlyStopping(patience=20, verbose=1)"
   ],
   "metadata": {
    "id": "_SHvFxtYypUu"
   },
   "execution_count": 75,
   "outputs": []
  },
  {
   "cell_type": "code",
   "source": [
    "model.compile(\n",
    "    optimizer='adam',\n",
    "    loss='sparse_categorical_crossentropy',\n",
    "    metrics=['accuracy']\n",
    ")"
   ],
   "metadata": {
    "id": "2GKRqFR2yupq"
   },
   "execution_count": 76,
   "outputs": []
  },
  {
   "cell_type": "code",
   "source": [
    "# change epoch to 800-1000\n",
    "history = model.fit(\n",
    "    x_train,\n",
    "    y_train,\n",
    "    epochs=1000,\n",
    "    batch_size=128,\n",
    "    validation_data=(x_test, y_test),\n",
    "    callbacks=[cp_callback, es_callback]\n",
    ")"
   ],
   "metadata": {
    "id": "IGyNnPfxyyTx"
   },
   "execution_count": null,
   "outputs": []
  },
  {
   "cell_type": "code",
   "source": [
    "# Model evaluation\n",
    "val_loss, val_acc = model.evaluate(x_test, y_test, batch_size=128)\n",
    "print(f'Validation Loss: {val_loss}, Validation Accuracy: {val_acc}')\n",
    "model = tf.keras.models.load_model(model_save_path)\n",
    "tf.saved_model.save(model, './')"
   ],
   "metadata": {
    "colab": {
     "base_uri": "https://localhost:8080/"
    },
    "id": "EcyBjrD7zFzS",
    "outputId": "d7f7fadf-5ebe-4098-ffc6-c32f54201cdf"
   },
   "execution_count": 79,
   "outputs": [
    {
     "output_type": "stream",
     "name": "stdout",
     "text": [
      "4/4 [==============================] - 0s 5ms/step - loss: 0.6299 - accuracy: 0.8840\n",
      "Validation Loss: 0.6299065947532654, Validation Accuracy: 0.8839505910873413\n"
     ]
    }
   ]
  },
  {
   "cell_type": "code",
   "source": [
    "predict_result = model.predict(np.array([x_test[0]]))\n",
    "print(np.squeeze(predict_result))\n",
    "print(np.argmax(np.squeeze(predict_result)))"
   ],
   "metadata": {
    "colab": {
     "base_uri": "https://localhost:8080/"
    },
    "id": "p70STmEwza9T",
    "outputId": "7ea4d45d-3c11-422e-c8bb-f379ecc51407"
   },
   "execution_count": 80,
   "outputs": [
    {
     "output_type": "stream",
     "name": "stdout",
     "text": [
      "1/1 [==============================] - 0s 59ms/step\n",
      "[2.1048110e-14 4.0300230e-07 5.8771810e-03 1.1010440e-01 5.6799501e-01\n",
      " 1.3259195e-01 5.3341910e-03 5.8923951e-07 4.5237241e-05 2.8544434e-04\n",
      " 6.5703679e-21 2.3176579e-05 5.2089170e-08 5.7906957e-16 1.0977776e-10\n",
      " 7.0406876e-09 4.7619035e-21 1.6292740e-01 1.8247195e-14 2.3385425e-19\n",
      " 2.1304714e-10 4.4199287e-06 4.6597040e-16 1.1514112e-07 3.5925221e-04\n",
      " 2.9919430e-04 1.1611870e-05 2.5434125e-15 1.2127631e-02 1.0953069e-15\n",
      " 9.7029030e-08 1.5473061e-06 1.4245526e-11 4.5623724e-21 2.2448015e-08\n",
      " 2.0109774e-03]\n",
      "4\n"
     ]
    }
   ]
  },
  {
   "cell_type": "code",
   "source": [
    "def print_confusion_matrix(y_true, y_pred, report=True):\n",
    "    labels = sorted(list(set(y_true)))\n",
    "    cmx_data = confusion_matrix(y_true, y_pred, labels=labels)\n",
    "\n",
    "    df_cmx = pd.DataFrame(cmx_data, index=labels, columns=labels)\n",
    "\n",
    "    fig, ax = plt.subplots(figsize=(7, 6))\n",
    "    sns.heatmap(df_cmx, annot=True, fmt='g', square=False)\n",
    "    ax.set_ylim(len(set(y_true)), 0)\n",
    "    plt.show()\n",
    "\n",
    "    if report:\n",
    "        print('Classification Report')\n",
    "        print(classification_report(y_test, y_pred))\n",
    "\n",
    "\n",
    "Y_pred = model.predict(x_test)\n",
    "y_pred = np.argmax(Y_pred, axis=1)\n",
    "\n",
    "print_confusion_matrix(y_test, y_pred)"
   ],
   "metadata": {
    "colab": {
     "base_uri": "https://localhost:8080/",
     "height": 1000
    },
    "id": "hUEUezJZzjHA",
    "outputId": "507fb31e-ecf9-4fc8-81f9-2631b056c95e"
   },
   "execution_count": 81,
   "outputs": [
    {
     "output_type": "stream",
     "name": "stdout",
     "text": [
      "13/13 [==============================] - 0s 2ms/step\n"
     ]
    },
    {
     "output_type": "display_data",
     "data": {
      "text/plain": [
       "<Figure size 700x600 with 2 Axes>"
      ],
      "image/png": "[encoded data removed]"
     },
     "metadata": {}
    },
    {
     "output_type": "stream",
     "name": "stdout",
     "text": [
      "Classification Report\n",
      "              precision    recall  f1-score   support\n",
      "\n",
      "           1       1.00      1.00      1.00         5\n",
      "           2       1.00      0.88      0.93        16\n",
      "           3       1.00      0.90      0.95        10\n",
      "           4       0.93      0.93      0.93        14\n",
      "           5       0.95      1.00      0.98        20\n",
      "           6       1.00      0.92      0.96        13\n",
      "           7       1.00      0.90      0.95        21\n",
      "           8       0.97      1.00      0.98        29\n",
      "           9       1.00      1.00      1.00        32\n",
      "          10       1.00      1.00      1.00        11\n",
      "          11       0.60      1.00      0.75         6\n",
      "          12       1.00      0.32      0.48        19\n",
      "          13       0.75      0.43      0.55         7\n",
      "          14       0.38      1.00      0.56         5\n",
      "          15       1.00      1.00      1.00         5\n",
      "          16       1.00      1.00      1.00         3\n",
      "          17       1.00      1.00      1.00         3\n",
      "          18       0.70      0.95      0.81        22\n",
      "          19       1.00      1.00      1.00         7\n",
      "          20       1.00      1.00      1.00         6\n",
      "          21       1.00      1.00      1.00        24\n",
      "          22       0.00      0.00      0.00         8\n",
      "          23       0.90      1.00      0.95         9\n",
      "          24       1.00      0.84      0.92        32\n",
      "          25       1.00      1.00      1.00         7\n",
      "          26       0.88      0.88      0.88         8\n",
      "          27       0.00      0.00      0.00         7\n",
      "          28       1.00      1.00      1.00         8\n",
      "          29       1.00      1.00      1.00         8\n",
      "          30       1.00      1.00      1.00         7\n",
      "          31       0.86      1.00      0.92         6\n",
      "          32       0.36      1.00      0.53         8\n",
      "          33       0.80      0.80      0.80         5\n",
      "          34       0.70      1.00      0.82         7\n",
      "          35       0.88      1.00      0.93         7\n",
      "\n",
      "    accuracy                           0.88       405\n",
      "   macro avg       0.85      0.88      0.84       405\n",
      "weighted avg       0.89      0.88      0.87       405\n"
     ]
    },
    {
     "output_type": "stream",
     "name": "stderr",
     "text": [
      "/usr/local/lib/python3.10/dist-packages/sklearn/metrics/_classification.py:1344: UndefinedMetricWarning: Precision and F-score are ill-defined and being set to 0.0 in labels with no predicted samples. Use `zero_division` parameter to control this behavior.\n",
      "  _warn_prf(average, modifier, msg_start, len(result))\n",
      "/usr/local/lib/python3.10/dist-packages/sklearn/metrics/_classification.py:1344: UndefinedMetricWarning: Precision and F-score are ill-defined and being set to 0.0 in labels with no predicted samples. Use `zero_division` parameter to control this behavior.\n",
      "  _warn_prf(average, modifier, msg_start, len(result))\n",
      "/usr/local/lib/python3.10/dist-packages/sklearn/metrics/_classification.py:1344: UndefinedMetricWarning: Precision and F-score are ill-defined and being set to 0.0 in labels with no predicted samples. Use `zero_division` parameter to control this behavior.\n",
      "  _warn_prf(average, modifier, msg_start, len(result))\n"
     ]
    }
   ]
  },
  {
   "cell_type": "code",
   "source": [
    "!pip install tensorflowjs\n"
   ],
   "metadata": {
    "id": "Tlwdk3vt8O1Q"
   },
   "execution_count": null,
   "outputs": []
  },
  {
   "cell_type": "code",
   "source": [
    "model.save(\"saved_model\")\n",
    "# Convert the SavedModel to a TensorFlow Lite model\n",
    "converter = tf.lite.TFLiteConverter.from_saved_model(\"saved_model\")\n",
    "tflite_model = converter.convert()\n",
    "# Save the converted model (optional)\n",
    "with open(\"converted_model.tflite\", \"wb\") as f:\n",
    "    f.write(tflite_model)\n"
   ],
   "metadata": {
    "id": "Wfh4kLHY8Xua"
   },
   "execution_count": 83,
   "outputs": []
  }
 ]
}
